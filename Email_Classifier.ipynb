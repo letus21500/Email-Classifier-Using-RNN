{
  "nbformat": 4,
  "nbformat_minor": 0,
  "metadata": {
    "colab": {
      "name": "Email Classifier.ipynb",
      "provenance": [],
      "collapsed_sections": []
    },
    "kernelspec": {
      "name": "python3",
      "display_name": "Python 3"
    },
    "language_info": {
      "name": "python"
    }
  },
  "cells": [
    {
      "cell_type": "markdown",
      "source": [
        "#**✉✉✉Case Study on application of neural networks— “Classification of Emails”✉✉✉**\n"
      ],
      "metadata": {
        "id": "44TF5xg50CuL"
      }
    },
    {
      "cell_type": "markdown",
      "source": [
        "This case study is built to classify a given mail as spam (not good) or ham (good) email. This will help you not read any unnecessary emails.\n",
        "The email will be classified based on its content.\n"
      ],
      "metadata": {
        "id": "2CWN7ZR40EJ5"
      }
    },
    {
      "cell_type": "code",
      "execution_count": null,
      "metadata": {
        "id": "eboM5FzZz98K"
      },
      "outputs": [],
      "source": [
        "from google.colab import files\n",
        "uploaded = files.upload()"
      ]
    },
    {
      "cell_type": "code",
      "source": [
        "import pandas as pd\n",
        "import io\n",
        "\n",
        "#Read the data\n",
        "Email_Data = pd.read_csv(io.StringIO(uploaded['spam.csv'].decode(encoding = \"ISO-8859-1\")))"
      ],
      "metadata": {
        "id": "ayJaObg20JtR"
      },
      "execution_count": null,
      "outputs": []
    },
    {
      "cell_type": "markdown",
      "source": [
        "**What is spam email?**\n",
        "--\n",
        "\n",
        "Spam email is unsolicited and unwanted junk email sent out in bulk to an indiscriminate recipient list. Typically, spam is sent for commercial purposes. It can be sent in massive volume by botnets, networks of infected computers. Spam email is unsolicited and unwanted junk email sent out in bulk to an indiscriminate recipient list. Typically, spam is sent for commercial purposes. It can be sent in massive volume by botnets, networks of infected computers.\n"
      ],
      "metadata": {
        "id": "XmrR9unG1Foh"
      }
    },
    {
      "cell_type": "markdown",
      "source": [
        "**What is the purpose of spam email?**\n",
        "--\n",
        "\n",
        "The main idea of spam is to make a profit. Mass email sending is cheap and easy compared to physical mail. Near 250 billion emails are sent globally every day, and 45% of them are spam. Even though the conversion rate is shallow — one reply in 12,500,00 spam emails sent, according to TechRadar — it is still worth a spammer's while.\n",
        "In most cases, spammers disguise unwanted emails with the mask of promotions offering something from the “ultimate diet drug” to “100% working remedy for men’s health”. Aside from commercials, the most popular types of spam include adult content and emails promising financial independence by following simple instructions.\n",
        "According to the Register of Known Spam Operations (ROKSO), most of the world’s spam activity comes from about a hundred of so-called “spam gangs” operating mainly from the USA, Russia, and China.\n"
      ],
      "metadata": {
        "id": "sNkNiCi41NsP"
      }
    },
    {
      "cell_type": "markdown",
      "source": [
        "**Why do we get spam emails?**\t\n",
        "--\n",
        "\n",
        "1.\tYour email address was exposed during a data leakage\n",
        "2.\tYour email was harvested by a specialized tool\n",
        "3.\tYour email was stolen from someone’s contact list\n",
        "4.\tYour email was randomly generated\n",
        "5.\tA dishonest company sold your email\n",
        "\n"
      ],
      "metadata": {
        "id": "LLwvAZ_u1ePo"
      }
    },
    {
      "cell_type": "code",
      "source": [
        "Email_Data.shape"
      ],
      "metadata": {
        "id": "HcpQkCuP0MIa"
      },
      "execution_count": null,
      "outputs": []
    },
    {
      "cell_type": "code",
      "source": [
        "Email_Data = Email_Data[['v1', 'v2']]\n",
        "Email_Data = Email_Data.rename(columns={\"v1\":\"Target\",\"v2\":\"Email\"})\n",
        "Email_Data.head()"
      ],
      "metadata": {
        "id": "gXQDA6B90OAo"
      },
      "execution_count": null,
      "outputs": []
    },
    {
      "cell_type": "code",
      "source": [
        "import nltk\n",
        "nltk.download('stopwords')"
      ],
      "metadata": {
        "id": "dMUczTxy0PxZ"
      },
      "execution_count": null,
      "outputs": []
    },
    {
      "cell_type": "code",
      "source": [
        "from nltk.corpus import stopwords\n",
        "from nltk import *\n",
        "from sklearn.feature_extraction.text import TfidfVectorizer\n",
        "from nltk.stem import WordNetLemmatizer\n",
        "import matplotlib.pyplot as plt\n",
        "from sklearn.model_selection import train_test_split\n",
        "\n",
        "# Remove stop words\n",
        "stop = stopwords.words('english')\n",
        "Email_Data['Email'] = Email_Data['Email'].apply(lambda x: \" \".join(x for x in x.split() if x not in stop))\n",
        "\n",
        "# check a small sample of pre-processed data\n",
        "Email_Data.head()"
      ],
      "metadata": {
        "id": "MAQYtWqJ0SEn"
      },
      "execution_count": null,
      "outputs": []
    },
    {
      "cell_type": "code",
      "source": [
        "# Delete punctuations and convert text to lower case\n",
        "Email_Data['Email'] = Email_Data['Email'].apply(lambda x: re.sub('[!@#$:).;,?&]', '', x.lower()))\n",
        "#Email_Data['Email'] = Email_Data['Email'].apply(lambda x: re.sub('  ', '', x))\n",
        "Email_Data['Email'].head(5)"
      ],
      "metadata": {
        "id": "gej4oItl0UB7"
      },
      "execution_count": null,
      "outputs": []
    },
    {
      "cell_type": "code",
      "source": [
        "# giving column heading\n",
        "To_Process=Email_Data[['Email', 'Target']]\n",
        "print(To_Process.head())"
      ],
      "metadata": {
        "id": "T3BGYFOm0WF3"
      },
      "execution_count": null,
      "outputs": []
    },
    {
      "cell_type": "code",
      "source": [
        "# Data preparation for model building \n",
        "# Now we prepare the data\n",
        "\n",
        "# Train and test split with 80:20 ratio\n",
        "train, test = train_test_split(To_Process, test_size=0.2)\n",
        "\n",
        "# Define the sequence lengths, max number of words and embedding dimensions\n",
        "\n",
        "# Sequence length of each word. If more, truncate. If less, pad with zeros\n",
        "MAX_SEQUENCE_LENGTH = 300\n",
        "\n",
        "# Top 6000 frequently occurring words\n",
        "MAX_NB_WORDS = 6000\n",
        "\n",
        "\n",
        "%tensorflow_version 1.x magic\n",
        "# Get the frequently occurring words\n",
        "#! pip install keras\n",
        "import keras\n",
        "from keras.preprocessing.text import Tokenizer\n",
        "tokenizer = keras.preprocessing.text.Tokenizer(num_words=MAX_NB_WORDS)\n",
        "tokenizer.fit_on_texts(train.Email)\n",
        "train_sequences = tokenizer.texts_to_sequences(train.Email)\n",
        "test_sequences = tokenizer.texts_to_sequences(test.Email)\n",
        "\n",
        "# dictionary containing words and their index\n",
        "word_index = tokenizer.word_index\n",
        "\n",
        "print(word_index)\n",
        "# total words in the corpus\n",
        "print('Found %s unique tokens.' % len(word_index))\n",
        "\n",
        "from keras.preprocessing.sequence import pad_sequences\n",
        "\n",
        "# make each sequence to 300\n",
        "train_data = pad_sequences(train_sequences, maxlen=MAX_SEQUENCE_LENGTH)\n",
        "test_data = pad_sequences(test_sequences, maxlen=MAX_SEQUENCE_LENGTH)\n",
        "\n",
        "print(train_data.shape)\n",
        "print(test_data.shape)\n",
        "\n",
        "# Use of pad_sequences\n",
        "#https://stackoverflow.com/questions/42943291/what-does-keras-io-preprocessing-sequence-pad-sequences-do/42964543"
      ],
      "metadata": {
        "id": "swaulv_X0X7H"
      },
      "execution_count": null,
      "outputs": []
    },
    {
      "cell_type": "code",
      "source": [
        "train_labels = train['Target']\n",
        "test_labels = test['Target']\n",
        "\n",
        "#import library\n",
        "from sklearn.preprocessing import LabelEncoder\n",
        "import numpy as np\n",
        "\n",
        "# converts the character array to numeric array. Assigns levels to unique labels.\n",
        "le = LabelEncoder()\n",
        "le.fit(train_labels)\n",
        "train_labels = le.transform(train_labels)\n",
        "test_labels = le.transform(test_labels)\n",
        "print(le.classes_)\n",
        "print(np.unique(train_labels, return_counts=True))\n",
        "print(np.unique(test_labels, return_counts=True))"
      ],
      "metadata": {
        "id": "MzRHkA6K0dRg"
      },
      "execution_count": null,
      "outputs": []
    },
    {
      "cell_type": "code",
      "source": [
        "# changing data types\n",
        "# to_categorical is defined under \n",
        "# https://www.tensorflow.org/api_docs/python/tf/keras/utils/to_categorical\n",
        "# to_categorical is used to convert array of labeled data(from 0 to nb_classes-1) to one-hot vector.\n",
        "\n",
        "from keras.utils import to_categorical\n",
        "labels_train = to_categorical(np.asarray(train_labels))\n",
        "labels_test = to_categorical(np.asarray(test_labels))\n",
        "print('Shape of data tensor:', train_data.shape)\n",
        "print('Shape of label tensor:', labels_train.shape)\n",
        "print('Shape of test-label tensor:', labels_test.shape)\n",
        "\n",
        "# sampling some o/p to see\n",
        "print(train_labels[:5])   # here we see a single list of 1's and 0's. Where 1 means spam and 0 means ham \n",
        "print(labels_train[:5])   # here you would see One hot encoded o/p.  i.e 2 columns ham spam\n",
        "                          #                                                         0    1   -> means mail is spam\n",
        "                          #                                                         1    0   -> means mail is ham"
      ],
      "metadata": {
        "id": "BcQ0GUWZ0f_w"
      },
      "execution_count": null,
      "outputs": []
    },
    {
      "cell_type": "code",
      "source": [
        "EMBEDDING_DIM = 100\n",
        "#print(MAX_SEQUENCE_LENGTH)"
      ],
      "metadata": {
        "id": "2sEmWyXT0iVY"
      },
      "execution_count": null,
      "outputs": []
    },
    {
      "cell_type": "markdown",
      "source": [
        "**Recurrent Neural Network:**\n",
        "--\n",
        "\n",
        "The fundamental feature of a Recurrent Neural Network (RNN) is that the network contains at least one feed-back connection, so the activations can flow round in a loop. That enables the networks to do temporal processing and learn sequences, e.g., perform sequence recognition/reproduction or temporal association/prediction. Recurrent neural network architectures can have many different forms. One common type consists of a standard Multi-Layer Perceptron (MLP) plus added loops. These can exploit the powerful non-linear mapping capabilities of the MLP, and also have some form of memory. Others have more uniform structures, potentially with every neuron connected to all the others, and may also have stochastic activation functions. For simple architectures and deterministic activation functions, learning can be achieved using similar gradient descent procedures to those leading to the back-propagation algorithm for feed-forward networks.\n",
        " \n",
        "In sequential tasks such as natural language and speech processing, there is always dependence of present input data upon the previous applied inputs. Task of RNNs is to find the relationship between current input and the previous applied inputs. In theory RNNs can make use of information sequence of any arbitrarily length, but in practice they are limited to looking back only a few steps.\n",
        "\n"
      ],
      "metadata": {
        "id": "yO9gMADe1ytI"
      }
    },
    {
      "cell_type": "markdown",
      "source": [
        "![image.png](data:image/png;base64,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)"
      ],
      "metadata": {
        "id": "TBlGg5SW14tg"
      }
    },
    {
      "cell_type": "markdown",
      "source": [
        "The above figure shows a RNN being unfolded into a full network. By unfolding we simply mean that we are repeating the same layer structure of network for the complete sequence.\n",
        "Xt is the input at time step t. Xt is a vector of any size N.\n",
        "A is the hidden state at time step t. It’s the “memory” of the network. It is calculated based on the previous hidden state and the input at the current step.\n",
        "Represented by At= f (W Xt +U At-1)\n",
        "Here W and U are weights for input and previous state value input. And f is the non-linearity applied to the sum to generate final cell state.\n",
        "\n",
        "One of the appeals of RNNs is the idea that they might be able to connect previous information to the present task, such as using previous video frames might inform the understanding of the present frame. If RNNs could do this, they’d be extremely useful. Sometimes, we only need to look at recent information to perform the present task. For example, consider a language model trying to predict the next word based on the previous ones. If we are trying to predict the last word in “the clouds are in the sky,” we don’t need any further context – it’s pretty obvious the next word is going to be sky. In such cases, where the gap between the relevant information and the place that it’s needed is small, RNNs can learn to use the past information. In theory, RNNs are absolutely capable of handling such “long-term dependencies.” A human could carefully pick parameters for them to solve toy problems of this form. Sadly, in practice, RNNs don’t seem to be able to learn them.\n"
      ],
      "metadata": {
        "id": "1KBKV3ib2A7G"
      }
    },
    {
      "cell_type": "code",
      "source": [
        "#import library\n",
        "from keras.layers.recurrent import SimpleRNN\n",
        "import sys, os, re, csv, codecs, numpy as np, pandas as pd\n",
        "from keras.preprocessing.text import Tokenizer\n",
        "from keras.preprocessing.sequence import pad_sequences\n",
        "from keras.utils import to_categorical\n",
        "from keras.layers import Dense, Input, LSTM, Embedding, Dropout, Activation\n",
        "from keras.layers import Bidirectional, GlobalMaxPool1D, Conv1D, SimpleRNN\n",
        "from keras.layers import  Flatten, BatchNormalization\n",
        "from keras.layers import MaxPooling1D\n",
        "from keras.models import Model\n",
        "from keras.models import Sequential\n",
        "from keras import initializers, regularizers, constraints, optimizers, layers\n",
        "#model training\n",
        "print('Training SIMPLERNN model.')\n",
        "model = Sequential()\n",
        "model.add(Embedding(MAX_NB_WORDS,EMBEDDING_DIM,input_length=MAX_SEQUENCE_LENGTH))\n",
        "\n",
        "## https://keras.io/api/layers/recurrent_layers/simple_rnn/\n",
        "model.add(SimpleRNN(2, input_shape=(None,1)))\n",
        "model.add(Dense(2,activation='softmax'))\n",
        "\n",
        "model.compile(loss = 'binary_crossentropy', optimizer='adam',metrics = ['accuracy'])\n",
        "\n",
        "model.fit(train_data, labels_train, batch_size=16, epochs=5, validation_data=(test_data, labels_test))\n"
      ],
      "metadata": {
        "id": "Aosg8FuX0k0I"
      },
      "execution_count": null,
      "outputs": []
    },
    {
      "cell_type": "code",
      "source": [
        "# prediction on test data\n",
        "predicted_Srnn=model.predict(test_data)\n",
        "predicted_Srnn"
      ],
      "metadata": {
        "id": "pXyuApY20nMH"
      },
      "execution_count": null,
      "outputs": []
    },
    {
      "cell_type": "code",
      "source": [
        "#model evaluation\n",
        "from sklearn.metrics import precision_recall_fscore_support as score\n",
        "import sklearn\n",
        "precision, recall, fscore, support = score(labels_test,predicted_Srnn.round())\n",
        "\n",
        "print('precision: {}'.format(precision))\n",
        "print('recall: {}'.format(recall))\n",
        "print('fscore: {}'.format(fscore))\n",
        "print('support: {}'.format(support))\n",
        "print(\"############################\")\n",
        "print(sklearn.metrics.classification_report(labels_test, predicted_Srnn.round()))"
      ],
      "metadata": {
        "id": "DPBwj2vI0pKg"
      },
      "execution_count": null,
      "outputs": []
    },
    {
      "cell_type": "markdown",
      "source": [
        "**Conclusion:**\n",
        "So we have implemented email classification using simple RNN. After that we have tried to increase its accuracy.\n"
      ],
      "metadata": {
        "id": "kvK9uz8N0ta-"
      }
    }
  ]
}